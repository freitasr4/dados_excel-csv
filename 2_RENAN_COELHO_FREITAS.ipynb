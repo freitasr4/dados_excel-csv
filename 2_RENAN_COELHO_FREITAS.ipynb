{
 "cells": [
  {
   "cell_type": "markdown",
   "metadata": {},
   "source": [
    "# Exercícios Módulo 5. Excel e CSV (Enunciado)\n",
    "\n",
    "Considerações a ter em conta: \n",
    "\n",
    "* Guardar este documento com o seguinte formato para entrega: __M5_02_nome_apelido1_apelido2__\n",
    "* Fazer os exercícios com as ferramentas vistas nas sessões. \n",
    "* Comentar o código\n",
    "* Utilizar nomes de variáveis apropriados, se vai guardar uma nota, chamar a essa variável nota, não n ou x\n",
    "\n",
    "__Recomendação__: fazer uma cópia dos ficheiros antes de os modificar para sempre poder recuperar uma versão original dos mesmos"
   ]
  },
  {
   "cell_type": "markdown",
   "metadata": {},
   "source": [
    "## EXCEL"
   ]
  },
  {
   "cell_type": "markdown",
   "metadata": {},
   "source": [
    "**1)  Exercício de manuseio de Excel com base ao ficheiro 02_Excel_data.xlsx:**\n",
    "\n",
    "* Abrir o ficheiro Excel \n",
    "* Listar as folhas do ficheiro\n",
    "* Criar uma nova folha chamada **\"olimpíadas\"** (caso exista no ficheiro, pode colocar outro nome).\n",
    "* Voltar a listar as folhas\n",
    "* Guardar e comprovar as alterações no excel"
   ]
  },
  {
   "cell_type": "code",
   "execution_count": 40,
   "metadata": {},
   "outputs": [],
   "source": [
    "import openpyxl"
   ]
  },
  {
   "cell_type": "code",
   "execution_count": 41,
   "metadata": {},
   "outputs": [],
   "source": [
    "from openpyxl import load_workbook"
   ]
  },
  {
   "cell_type": "code",
   "execution_count": 42,
   "metadata": {},
   "outputs": [],
   "source": [
    "wb = load_workbook('02_Excel_data.xlsx')"
   ]
  },
  {
   "cell_type": "code",
   "execution_count": 43,
   "metadata": {},
   "outputs": [
    {
     "name": "stdout",
     "output_type": "stream",
     "text": [
      "Folhas do ficheiro Excel: ['address', 'ventas', 'Olimpiadas', 'olimpíadas', 'olimpíadas_2']\n"
     ]
    }
   ],
   "source": [
    "sheets = wb.sheetnames\n",
    "print(\"Folhas do ficheiro Excel:\", sheets)"
   ]
  },
  {
   "cell_type": "code",
   "execution_count": 44,
   "metadata": {},
   "outputs": [],
   "source": [
    "new_sheet = wb.create_sheet(\"olimpíadas\", 0)"
   ]
  },
  {
   "cell_type": "code",
   "execution_count": 45,
   "metadata": {},
   "outputs": [],
   "source": [
    "wb.save('02_Excel_data.xlsx')"
   ]
  },
  {
   "cell_type": "code",
   "execution_count": 46,
   "metadata": {},
   "outputs": [],
   "source": [
    "sheets = wb.sheetnames"
   ]
  },
  {
   "cell_type": "code",
   "execution_count": 47,
   "metadata": {},
   "outputs": [
    {
     "name": "stdout",
     "output_type": "stream",
     "text": [
      "Folhas do ficheiro Excel após criação da nova folha: ['olimpíadas1', 'address', 'ventas', 'Olimpiadas', 'olimpíadas', 'olimpíadas_2']\n"
     ]
    }
   ],
   "source": [
    "print(\"Folhas do ficheiro Excel após criação da nova folha:\", sheets)"
   ]
  },
  {
   "cell_type": "markdown",
   "metadata": {},
   "source": [
    "**2) Continuar com o Excel**\n",
    "* Criar uma lista que contenha os seguintes dados (nome do país e medalhas de ouro, prata e bronze):\n",
    "```\n",
    "USA, 46, 12, 5\n",
    "China, 38, 20, 7\n",
    "UK, 29, 7, 7\n",
    "Russia, 22, 10, 9\n",
    "South Korea, 13, 3, 2\n",
    "Germany, 11, 7, 4\n",
    "```\n",
    "* Adicionar essa lista à folha de olimpíadas que criámos no exercício anterior \n",
    "* Listar por filas e colunas o conteúdo\n",
    "* Mover todo o intervalo de dados uma fila para baixo (pesquisar na documentação como mover intervalos)\n",
    "* Adicionar umas cabeceiras na primeira linha (que acaba de ficar livre) que sejam “País”, “Ouros”, “Pratas”, “Bronzes” \n",
    "* Guardar e comprovar as alterações no excel "
   ]
  },
  {
   "cell_type": "code",
   "execution_count": 48,
   "metadata": {},
   "outputs": [],
   "source": [
    "dados = [\n",
    "    (\"USA\", 46, 12, 5),\n",
    "    (\"China\", 38, 20, 7),\n",
    "    (\"UK\", 29, 7, 7),\n",
    "    (\"Russia\", 22, 10, 9),\n",
    "    (\"South Korea\", 13, 3, 2),\n",
    "    (\"Germany\", 11, 7, 4)\n",
    "]"
   ]
  },
  {
   "cell_type": "code",
   "execution_count": 49,
   "metadata": {},
   "outputs": [],
   "source": [
    "for row in dados:\n",
    "    new_sheet.append(row)"
   ]
  },
  {
   "cell_type": "code",
   "execution_count": 50,
   "metadata": {},
   "outputs": [],
   "source": [
    "new_sheet.move_range(\"A1\", rows=1, cols=0)"
   ]
  },
  {
   "cell_type": "code",
   "execution_count": 51,
   "metadata": {},
   "outputs": [],
   "source": [
    "new_sheet[\"A1\"] = \"País\"\n",
    "new_sheet[\"B1\"] = \"Ouros\"\n",
    "new_sheet[\"C1\"] = \"Pratas\"\n",
    "new_sheet[\"D1\"] = \"Bronzes\""
   ]
  },
  {
   "cell_type": "code",
   "execution_count": 52,
   "metadata": {},
   "outputs": [],
   "source": [
    "wb.save('02_Excel_data.xlsx')"
   ]
  },
  {
   "cell_type": "code",
   "execution_count": 53,
   "metadata": {},
   "outputs": [
    {
     "name": "stdout",
     "output_type": "stream",
     "text": [
      "['olimpíadas1', 'address', 'ventas', 'Olimpiadas', 'olimpíadas', 'olimpíadas_2']\n"
     ]
    }
   ],
   "source": [
    "print(wb.sheetnames)"
   ]
  },
  {
   "cell_type": "markdown",
   "metadata": {},
   "source": [
    "**3)  Continuar com o Excel, centrando-se na livraria openpyxl.styles (a qual proporciona estilo às nossas folhas de Excel)**\n",
    "* Colocar as cabeceiras que acabámos de adicionar a negrito (bold) \n",
    "* Guardar e comprovar as alterações no excel\n",
    "\n",
    "Pista: embora haja várias formas de o fazer, o mais comum é definir o estilo que deseja (negrito) e logo aplicá-lo a todas as células que queira (iterar pela primeira fila da nossa folha)\n",
    "\n",
    "\n",
    "Doc: https://openpyxl.readthedocs.io/en/stable/styles.html"
   ]
  },
  {
   "cell_type": "code",
   "execution_count": 54,
   "metadata": {},
   "outputs": [],
   "source": [
    "from openpyxl.styles import Font"
   ]
  },
  {
   "cell_type": "code",
   "execution_count": 55,
   "metadata": {},
   "outputs": [],
   "source": [
    "for cell in new_sheet[\"1:1\"]:\n",
    "    cell.font = Font(bold=True)"
   ]
  },
  {
   "cell_type": "code",
   "execution_count": 56,
   "metadata": {},
   "outputs": [],
   "source": [
    "wb.save('02_Excel_data.xlsx')"
   ]
  },
  {
   "cell_type": "markdown",
   "metadata": {},
   "source": [
    "**4) Continuar com o Excel. Criar uma nova coluna que seja o somatório de todas as medalhas conseguidas por cada país**"
   ]
  },
  {
   "cell_type": "code",
   "execution_count": 58,
   "metadata": {},
   "outputs": [],
   "source": [
    "for row in range(2, len(new_sheet[\"A\"])+1):\n",
    "    somatorio = sum([cell.value for cell in new_sheet[f\"B{row}:D{row}\"][0]])\n",
    "    new_sheet[f\"E{row}\"] = somatorio"
   ]
  },
  {
   "cell_type": "code",
   "execution_count": 59,
   "metadata": {},
   "outputs": [],
   "source": [
    "wb.save('02_Excel_data.xlsx')"
   ]
  },
  {
   "cell_type": "markdown",
   "metadata": {},
   "source": [
    "**5)  Continuar com o Excel. Criar um gráfico de barras (openpyxl.chart.BarChart()) o mais parecido ao que se mostra na imagem:**\n",
    "\n",
    "<img src=\"./02_Excel_data.png\"  />"
   ]
  },
  {
   "cell_type": "code",
   "execution_count": 61,
   "metadata": {},
   "outputs": [],
   "source": [
    "from openpyxl.chart import BarChart, Reference"
   ]
  },
  {
   "cell_type": "code",
   "execution_count": 62,
   "metadata": {},
   "outputs": [],
   "source": [
    "data = Reference(new_sheet, min_col=5, min_row=2, max_row=7, max_col=5)\n",
    "categories = Reference(new_sheet, min_col=1, min_row=2, max_row=7)"
   ]
  },
  {
   "cell_type": "code",
   "execution_count": 63,
   "metadata": {},
   "outputs": [],
   "source": [
    "chart = BarChart()\n",
    "chart.add_data(data=data)\n",
    "chart.set_categories(categories)\n",
    "chart.title = \"Medalhas por País\"\n",
    "chart.x_axis.title = \"País\"\n",
    "chart.y_axis.title = \"Total de Medalhas\"\n"
   ]
  },
  {
   "cell_type": "code",
   "execution_count": 64,
   "metadata": {},
   "outputs": [],
   "source": [
    "new_sheet.add_chart(chart, \"G1\")"
   ]
  },
  {
   "cell_type": "code",
   "execution_count": 65,
   "metadata": {},
   "outputs": [],
   "source": [
    "wb.save(\"02_Excel_data.xlsx\")"
   ]
  },
  {
   "cell_type": "code",
   "execution_count": 66,
   "metadata": {},
   "outputs": [
    {
     "name": "stdout",
     "output_type": "stream",
     "text": [
      "['olimpíadas1', 'address', 'ventas', 'Olimpiadas', 'olimpíadas', 'olimpíadas_2']\n"
     ]
    }
   ],
   "source": [
    "print(wb.sheetnames)"
   ]
  },
  {
   "cell_type": "markdown",
   "metadata": {},
   "source": [
    "## CSV"
   ]
  },
  {
   "cell_type": "markdown",
   "metadata": {},
   "source": [
    "**Vamos fazer um exercício prático de *Data Mining*, onde iremos limpar e filtrar informação com um csv que contém dados de veículos**\n",
    "\n",
    "Trabalhar com o ficheiro **02_CSV_data.csv**"
   ]
  },
  {
   "cell_type": "markdown",
   "metadata": {},
   "source": [
    "**6) Observar os dados do csv e fazer as seguintes tarefas:**\n",
    "\n",
    "* Temos 9 colunas, as 8 primeiras contêm dados numéricos com os quais podemos trabalhar, criar uma lista para cada uma destas colunas (mpg, cylinders, etc.). Não é necessário criar lista para *name*\n",
    "* Percorrer os dados do csv adequadamente e armazenar os dados de cada coluna em cada uma das listas que criou anteriormente.\n",
    "* Comprovar que se guardou nas listas a informação correspondente (com prints)"
   ]
  },
  {
   "cell_type": "code",
   "execution_count": 67,
   "metadata": {},
   "outputs": [],
   "source": [
    "mpg = []\n",
    "cylinders = []\n",
    "displacement = []\n",
    "horsepower = []\n",
    "weight = []\n",
    "acceleration = []\n",
    "model_year = []\n",
    "origin = []\n"
   ]
  },
  {
   "cell_type": "code",
   "execution_count": 68,
   "metadata": {},
   "outputs": [],
   "source": [
    "with open('02_CSV_data.csv', 'r') as file:\n",
    "    next(file)  # Pular cabeçalho\n",
    "    for line in file:\n",
    "        data = line.strip().split(',')\n",
    "        mpg.append(float(data[0]))\n",
    "        cylinders.append(float(data[1]))\n",
    "        displacement.append(float(data[2]))\n",
    "        horsepower.append(float(data[3]))\n",
    "        weight.append(float(data[4]))\n",
    "        acceleration.append(float(data[5]))\n",
    "        model_year.append(float(data[6]))\n",
    "        origin.append(float(data[7]))\n"
   ]
  },
  {
   "cell_type": "code",
   "execution_count": 69,
   "metadata": {},
   "outputs": [
    {
     "name": "stdout",
     "output_type": "stream",
     "text": [
      "mpg: [18.0, 15.0, 18.0, 16.0, 17.0]\n",
      "cylinders: [8.0, 8.0, 8.0, 8.0, 8.0]\n",
      "displacement: [307.0, 350.0, 318.0, 304.0, 302.0]\n",
      "horsepower: [130.0, 165.0, 150.0, 150.0, 140.0]\n",
      "weight: [3504.0, 3693.0, 3436.0, 3433.0, 3449.0]\n",
      "acceleration: [12.0, 11.5, 11.0, 12.0, 10.5]\n",
      "model_year: [70.0, 70.0, 70.0, 70.0, 70.0]\n",
      "origin: [1.0, 1.0, 1.0, 1.0, 1.0]\n"
     ]
    }
   ],
   "source": [
    "print(\"mpg:\", mpg[:5])\n",
    "print(\"cylinders:\", cylinders[:5])\n",
    "print(\"displacement:\", displacement[:5])\n",
    "print(\"horsepower:\", horsepower[:5])\n",
    "print(\"weight:\", weight[:5])\n",
    "print(\"acceleration:\", acceleration[:5])\n",
    "print(\"model_year:\", model_year[:5])\n",
    "print(\"origin:\", origin[:5])\n"
   ]
  },
  {
   "cell_type": "markdown",
   "metadata": {},
   "source": [
    "**7) Vamos trabalhar os números das listas criadas, pelo que nos falta alterar o primeiro elemento de cada lista, o qual contém o nome de cada uma das colunas.**\n",
    "\n",
    "* Eliminar o primeiro elemento de cada uma das listas\n",
    "* Observar que o tipo dos dados das nossas listas (strings), convertê-los para float. Pista: list e map podem ajudar. \n",
    "* Comprovar que se eliminou o primeiro elemento e que os dados são numéricos (com prints)"
   ]
  },
  {
   "cell_type": "code",
   "execution_count": 70,
   "metadata": {},
   "outputs": [],
   "source": [
    "mpg = mpg[1:]\n",
    "cylinders = cylinders[1:]\n",
    "displacement = displacement[1:]\n",
    "horsepower = horsepower[1:]\n",
    "weight = weight[1:]\n",
    "acceleration = acceleration[1:]\n",
    "model_year = model_year[1:]\n",
    "origin = origin[1:]"
   ]
  },
  {
   "cell_type": "code",
   "execution_count": 71,
   "metadata": {},
   "outputs": [],
   "source": [
    "mpg = list(map(float, mpg))\n",
    "cylinders = list(map(float, cylinders))\n",
    "displacement = list(map(float, displacement))\n",
    "horsepower = list(map(float, horsepower))\n",
    "weight = list(map(float, weight))\n",
    "acceleration = list(map(float, acceleration))\n",
    "model_year = list(map(float, model_year))\n",
    "origin = list(map(float, origin))"
   ]
  },
  {
   "cell_type": "code",
   "execution_count": 72,
   "metadata": {},
   "outputs": [
    {
     "name": "stdout",
     "output_type": "stream",
     "text": [
      "mpg: [15.0, 18.0, 16.0, 17.0, 15.0]\n",
      "cylinders: [8.0, 8.0, 8.0, 8.0, 8.0]\n",
      "displacement: [350.0, 318.0, 304.0, 302.0, 429.0]\n",
      "horsepower: [165.0, 150.0, 150.0, 140.0, 198.0]\n",
      "weight: [3693.0, 3436.0, 3433.0, 3449.0, 4341.0]\n",
      "acceleration: [11.5, 11.0, 12.0, 10.5, 10.0]\n",
      "model_year: [70.0, 70.0, 70.0, 70.0, 70.0]\n",
      "origin: [1.0, 1.0, 1.0, 1.0, 1.0]\n"
     ]
    }
   ],
   "source": [
    "print(\"mpg:\", mpg[:5])\n",
    "print(\"cylinders:\", cylinders[:5])\n",
    "print(\"displacement:\", displacement[:5])\n",
    "print(\"horsepower:\", horsepower[:5])\n",
    "print(\"weight:\", weight[:5])\n",
    "print(\"acceleration:\", acceleration[:5])\n",
    "print(\"model_year:\", model_year[:5])\n",
    "print(\"origin:\", origin[:5])\n"
   ]
  },
  {
   "cell_type": "markdown",
   "metadata": {},
   "source": [
    "**8) Para terminar vamos mostrar alguns resultados. Para isso iremos utilizar a livraria *statistics*.**\n",
    "\n",
    "* Mostrar para cada uma das listas, quantas observações tem (quantos dados tem). \n",
    "* Mostrar o mínimo e o máximo de cada lista\n",
    "* Mostrar a média, mediana e desvio padrão de cada lista (utilizando statistics)"
   ]
  },
  {
   "cell_type": "code",
   "execution_count": 73,
   "metadata": {},
   "outputs": [],
   "source": [
    "import statistics "
   ]
  },
  {
   "cell_type": "code",
   "execution_count": 74,
   "metadata": {},
   "outputs": [
    {
     "name": "stdout",
     "output_type": "stream",
     "text": [
      "Quantidade de observações em cada lista:\n",
      "mpg: 396\n",
      "cylinders: 396\n",
      "displacement: 396\n",
      "horsepower: 396\n",
      "weight: 396\n",
      "acceleration: 396\n",
      "model_year: 396\n",
      "origin: 396\n"
     ]
    }
   ],
   "source": [
    "print(\"Quantidade de observações em cada lista:\")\n",
    "print(\"mpg:\", len(mpg))\n",
    "print(\"cylinders:\", len(cylinders))\n",
    "print(\"displacement:\", len(displacement))\n",
    "print(\"horsepower:\", len(horsepower))\n",
    "print(\"weight:\", len(weight))\n",
    "print(\"acceleration:\", len(acceleration))\n",
    "print(\"model_year:\", len(model_year))\n",
    "print(\"origin:\", len(origin))"
   ]
  },
  {
   "cell_type": "code",
   "execution_count": 75,
   "metadata": {},
   "outputs": [
    {
     "name": "stdout",
     "output_type": "stream",
     "text": [
      "\n",
      "Mínimo e máximo de cada lista:\n",
      "mpg - Min: 9.0 Max: 46.6\n",
      "cylinders - Min: 3.0 Max: 8.0\n",
      "displacement - Min: 68.0 Max: 455.0\n",
      "horsepower - Min: 46.0 Max: 230.0\n",
      "weight - Min: 1613.0 Max: 5140.0\n",
      "acceleration - Min: 8.0 Max: 24.8\n",
      "model_year - Min: 70.0 Max: 82.0\n",
      "origin - Min: 1.0 Max: 3.0\n"
     ]
    }
   ],
   "source": [
    "print(\"\\nMínimo e máximo de cada lista:\")\n",
    "print(\"mpg - Min:\", min(mpg), \"Max:\", max(mpg))\n",
    "print(\"cylinders - Min:\", min(cylinders), \"Max:\", max(cylinders))\n",
    "print(\"displacement - Min:\", min(displacement), \"Max:\", max(displacement))\n",
    "print(\"horsepower - Min:\", min(horsepower), \"Max:\", max(horsepower))\n",
    "print(\"weight - Min:\", min(weight), \"Max:\", max(weight))\n",
    "print(\"acceleration - Min:\", min(acceleration), \"Max:\", max(acceleration))\n",
    "print(\"model_year - Min:\", min(model_year), \"Max:\", max(model_year))\n",
    "print(\"origin - Min:\", min(origin), \"Max:\", max(origin))"
   ]
  },
  {
   "cell_type": "code",
   "execution_count": 76,
   "metadata": {},
   "outputs": [
    {
     "name": "stdout",
     "output_type": "stream",
     "text": [
      "\n",
      "Média de cada lista:\n",
      "mpg: 23.52979797979798\n",
      "cylinders: 5.452020202020202\n",
      "displacement: 193.24621212121212\n",
      "horsepower: 104.22222222222223\n",
      "weight: 2968.9141414141413\n",
      "acceleration: 15.564646464646465\n",
      "model_year: 76.01010101010101\n",
      "origin: 1.5757575757575757\n"
     ]
    }
   ],
   "source": [
    "print(\"\\nMédia de cada lista:\")\n",
    "print(\"mpg:\", statistics.mean(mpg))\n",
    "print(\"cylinders:\", statistics.mean(cylinders))\n",
    "print(\"displacement:\", statistics.mean(displacement))\n",
    "print(\"horsepower:\", statistics.mean(horsepower))\n",
    "print(\"weight:\", statistics.mean(weight))\n",
    "print(\"acceleration:\", statistics.mean(acceleration))\n",
    "print(\"model_year:\", statistics.mean(model_year))\n",
    "print(\"origin:\", statistics.mean(origin))\n"
   ]
  },
  {
   "cell_type": "code",
   "execution_count": 77,
   "metadata": {},
   "outputs": [
    {
     "name": "stdout",
     "output_type": "stream",
     "text": [
      "mpg: 23.0\n",
      "cylinders: 4.0\n",
      "displacement: 146.0\n",
      "horsepower: 92.0\n",
      "weight: 2797.5\n",
      "acceleration: 15.5\n",
      "model_year: 76.0\n",
      "origin: 1.0\n"
     ]
    }
   ],
   "source": [
    "print(\"mpg:\", statistics.median(mpg))\n",
    "print(\"cylinders:\", statistics.median(cylinders))\n",
    "print(\"displacement:\", statistics.median(displacement))\n",
    "print(\"horsepower:\", statistics.median(horsepower))\n",
    "print(\"weight:\", statistics.median(weight))\n",
    "print(\"acceleration:\", statistics.median(acceleration))\n",
    "print(\"model_year:\", statistics.median(model_year))\n",
    "print(\"origin:\", statistics.median(origin))\n"
   ]
  },
  {
   "cell_type": "code",
   "execution_count": 78,
   "metadata": {},
   "outputs": [
    {
     "name": "stdout",
     "output_type": "stream",
     "text": [
      "\n",
      "Desvio padrão de cada lista:\n",
      "mpg: 7.83077479456121\n",
      "cylinders: 1.6989113296225788\n",
      "displacement: 104.35517787907129\n",
      "horsepower: 38.30802686962829\n",
      "weight: 848.5508079203619\n",
      "acceleration: 2.747641128937785\n",
      "model_year: 3.6823078880202553\n",
      "origin: 0.8030436921248121\n"
     ]
    }
   ],
   "source": [
    "print(\"\\nDesvio padrão de cada lista:\")\n",
    "print(\"mpg:\", statistics.stdev(mpg))\n",
    "print(\"cylinders:\", statistics.stdev(cylinders))\n",
    "print(\"displacement:\", statistics.stdev(displacement))\n",
    "print(\"horsepower:\", statistics.stdev(horsepower))\n",
    "print(\"weight:\", statistics.stdev(weight))\n",
    "print(\"acceleration:\", statistics.stdev(acceleration))\n",
    "print(\"model_year:\", statistics.stdev(model_year))\n",
    "print(\"origin:\", statistics.stdev(origin))"
   ]
  },
  {
   "cell_type": "code",
   "execution_count": null,
   "metadata": {},
   "outputs": [],
   "source": []
  }
 ],
 "metadata": {
  "anaconda-cloud": {},
  "kernelspec": {
   "display_name": "Python 3 (ipykernel)",
   "language": "python",
   "name": "python3"
  },
  "language_info": {
   "codemirror_mode": {
    "name": "ipython",
    "version": 3
   },
   "file_extension": ".py",
   "mimetype": "text/x-python",
   "name": "python",
   "nbconvert_exporter": "python",
   "pygments_lexer": "ipython3",
   "version": "3.10.9"
  }
 },
 "nbformat": 4,
 "nbformat_minor": 1
}
